{
  "nbformat": 4,
  "nbformat_minor": 0,
  "metadata": {
    "colab": {
      "provenance": [],
      "toc_visible": true,
      "authorship_tag": "ABX9TyNR9Atgp6u0aoeuj4DzeUFT"
    },
    "kernelspec": {
      "name": "python3",
      "display_name": "Python 3"
    },
    "language_info": {
      "name": "python"
    }
  },
  "cells": [
    {
      "cell_type": "markdown",
      "source": [
        "####1. Installations"
      ],
      "metadata": {
        "id": "Cpd-cTdEg5Oi"
      }
    },
    {
      "cell_type": "code",
      "source": [
        "!pip install roboflow\n",
        "!pip install pytesseract\n",
        "!apt-get install tesseract-ocr"
      ],
      "metadata": {
        "id": "E9GzGLbrZu6J"
      },
      "execution_count": null,
      "outputs": []
    },
    {
      "cell_type": "markdown",
      "source": [
        "### 2. Importations"
      ],
      "metadata": {
        "id": "hey5l5w0g8Zq"
      }
    },
    {
      "cell_type": "code",
      "source": [
        "from roboflow import Roboflow\n",
        "import pytesseract\n",
        "from PIL import Image, ImageDraw, ImageOps, ImageEnhance"
      ],
      "metadata": {
        "id": "u7XKLxhsZv1P"
      },
      "execution_count": null,
      "outputs": []
    },
    {
      "cell_type": "markdown",
      "source": [
        "#### 3. Image Preparation and Preprocessing\n"
      ],
      "metadata": {
        "id": "ez8Tv2v9hABN"
      }
    },
    {
      "cell_type": "code",
      "source": [
        "# Roboflow API key and model info\n",
        "api_key = \"**********\"\n",
        "workspace_id = \"*************\"\n",
        "project_id = \"************\"\n",
        "version_number = 3\n",
        "\n",
        "# Load the model\n",
        "rf = Roboflow(api_key=api_key)\n",
        "project = rf.workspace(workspace_id).project(project_id)\n",
        "model = project.version(version_number).model\n",
        "\n",
        "# Function to draw boxes around detections\n",
        "def draw_boxes(image, detections):\n",
        "    draw = ImageDraw.Draw(image)\n",
        "    for detection in detections[\"predictions\"]:\n",
        "        box = [\n",
        "            detection[\"x\"] - detection[\"width\"] / 2,\n",
        "            detection[\"y\"] - detection[\"height\"] / 2,\n",
        "            detection[\"x\"] + detection[\"width\"] / 2,\n",
        "            detection[\"y\"] + detection[\"height\"] / 2,\n",
        "        ]\n",
        "        label = detection[\"class\"]\n",
        "        draw.rectangle(box, outline=\"red\", width=2)\n",
        "        draw.text((box[0], box[1]), label, fill=\"red\")\n",
        "    return image\n",
        "\n",
        "\n",
        "\n",
        "def preprocess_image(image):\n",
        "    image = ImageOps.grayscale(image)  # Convert to grayscale\n",
        "    image = ImageEnhance.Contrast(image).enhance(2)  # Increase contrast\n",
        "    image = image.resize((image.width * 2, image.height * 2), Image.ANTIALIAS)  # Resize for better resolution\n",
        "    return image"
      ],
      "metadata": {
        "id": "IrDyMdD5fPAm"
      },
      "execution_count": null,
      "outputs": []
    },
    {
      "cell_type": "markdown",
      "source": [
        "#### 4. Text Extraction with OCR\n"
      ],
      "metadata": {
        "id": "bVB1WFrNhBVi"
      }
    },
    {
      "cell_type": "code",
      "execution_count": null,
      "metadata": {
        "id": "ljSbLuv9YFjF"
      },
      "outputs": [],
      "source": [
        "# Extract text from specific regions of the image using OCR\n",
        "def extract_text_from_image(image, region=None):\n",
        "    if region:\n",
        "        cropped_image = image.crop(region)\n",
        "    else:\n",
        "        cropped_image = image\n",
        "    text = pytesseract.image_to_string(cropped_image, config='--psm 6')\n",
        "    return text\n",
        "\n",
        "# Extract title from the top of the chart\n",
        "def extract_title(image):\n",
        "    width, height = image.size\n",
        "    title_region = (0, 0, width, height * 0.2)  # Top 20% of the image\n",
        "    title_text = extract_text_from_image(image, title_region)\n",
        "    return title_text.strip()\n",
        "\n",
        "# Extract axis labels from the edges of the chart\n",
        "def extract_axis_labels(image):\n",
        "    width, height = image.size\n",
        "    x_axis_region = (0, height * 0.9, width, height)  # Bottom 10% of the image\n",
        "    y_axis_region = (0, 0, width * 0.1, height)       # Left 10% of the image\n",
        "    x_axis_text = extract_text_from_image(image, x_axis_region).strip()\n",
        "\n",
        "    y_axis_cropped = image.crop(y_axis_region)\n",
        "    y_axis_rotated = y_axis_cropped.rotate(270, expand=True)\n",
        "    y_axis_text = extract_text_from_image(y_axis_rotated).strip()\n",
        "    return x_axis_text, y_axis_text\n",
        "\n",
        "# Predict and annotate the chart\n",
        "detection = model.predict('Line-Graph-05-min.png', confidence=50, overlap=30).json()\n",
        "image = Image.open('Line-Graph-05-min.png')\n",
        "image = draw_boxes(image, detection)\n",
        "image.save('annotated_line_graph.png')\n",
        "\n",
        "def crop_and_save(image, detections):\n",
        "    cropped_images = []\n",
        "    for j, detection in enumerate(detections[\"predictions\"]):\n",
        "        box = (\n",
        "            detection[\"x\"] - detection[\"width\"] / 2,\n",
        "            detection[\"y\"] - detection[\"height\"] / 2,\n",
        "            detection[\"x\"] + detection[\"width\"] / 2,\n",
        "            detection[\"y\"] + detection[\"height\"] / 2,\n",
        "        )\n",
        "        cropped_image = image.crop(box)\n",
        "        cropped_images.append(cropped_image)\n",
        "    return cropped_images\n",
        "\n",
        "cropped_images = crop_and_save(image, detection)\n",
        "\n",
        "for j, cropped_image in enumerate(cropped_images):\n",
        "    title = extract_title(cropped_image)\n",
        "    x_axis, y_axis = extract_axis_labels(cropped_image)\n",
        "    print(f'Title for chart box {j}: {title}')\n",
        "    print(f'X-axis label for chart box {j}: {x_axis}')\n",
        "    print(f'Y-axis label for chart box {j}: {y_axis}')"
      ]
    }
  ]
}